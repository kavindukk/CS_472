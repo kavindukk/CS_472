{
 "cells": [
  {
   "cell_type": "markdown",
   "metadata": {},
   "source": [
    "# Decision Tree Lab"
   ]
  },
  {
   "cell_type": "code",
   "execution_count": 3,
   "metadata": {},
   "outputs": [],
   "source": [
    "from sklearn.base import BaseEstimator, ClassifierMixin\n",
    "from sklearn.tree import DecisionTreeClassifier\n",
    "import numpy as np\n",
    "import matplotlib.pyplot as plt\n",
    "import pandas as pd\n",
    "from scipy.io import arff\n",
    "import math as m"
   ]
  },
  {
   "cell_type": "markdown",
   "metadata": {},
   "source": [
    "## 1. (40%) Correctly implement the ID3 decision tree algorithm, including the ability to handle unknown attributes (You do not need to handle real valued attributes).  \n",
    "### Code Requirements/Notes:\n",
    "- Use standard information gain as your basic attribute evaluation metric.  (Note that normal ID3 would usually augment information gain with gain ratio or some other mechanism to penalize statistically insignificant attribute splits. Otherwise, even with approaches like pruning below, the SSE type of overfit could still hurt us.) \n",
    "- You are welcome to create other classes and/or functions in addition to the ones provided below. (e.g. If you build out a tree structure, you might create a node class).\n",
    "- It is a good idea to use a simple data set (like the lenses data or the pizza homework), which you can check by hand, to test your algorithm to make sure that it is working correctly. "
   ]
  },
  {
   "cell_type": "code",
   "execution_count": 4,
   "metadata": {},
   "outputs": [],
   "source": [
    "class Node:\n",
    "    def __init__(self) -> None:\n",
    "        self.name = None\n",
    "        self.childs = {}"
   ]
  },
  {
   "cell_type": "code",
   "execution_count": 5,
   "metadata": {},
   "outputs": [],
   "source": [
    "class DTClassifier(BaseEstimator,ClassifierMixin):\n",
    "\n",
    "    def __init__(self,counts=None):\n",
    "        self.node = Node()  \n",
    "        self.infoGain = []      \n",
    "\n",
    "    def fit(self, X, y, feature_names=None):\n",
    "        self.X = X\n",
    "        self.y = y\n",
    "        fType = type(feature_names)\n",
    "        self.feature_names = ['feature_'+str(i) for i in range(X.shape[1])] if not (fType==list or fType==np.ndarray) else list(feature_names)\n",
    "        self.id3()\n",
    "\n",
    "        return self\n",
    "\n",
    "    def find_information_gain(self, X_ids):\n",
    "        y = [self.y[y] for y in X_ids]\n",
    "        labelCategories = list(set(y))\n",
    "        labelCategoriesCount = [list(y).count(x) for x in labelCategories]\n",
    "        labelsCount = len(list(self.y))\n",
    "        informationGain = 0\n",
    "        for value in labelCategoriesCount:\n",
    "            informationGain -= (value/labelsCount)*m.log(value/labelsCount,2)\n",
    "        return informationGain\n",
    "\n",
    "    def find_entropy_of_a_feature(self, X_ids, feature_id):\n",
    "        X = [self.X[x][feature_id] for x in X_ids ]\n",
    "        y = [self.y[y] for y in X_ids]\n",
    "        xLabelList = list(set(X))\n",
    "        xLabelsCount = [list(X).count(x) for x in xLabelList]\n",
    "        instanceCount = len(list(X)) \n",
    "        labelEntropyList = []\n",
    "        for label in xLabelList:\n",
    "            labelEntropy = 0\n",
    "            labelIndexes = [i for i in range(len(X)) if X[i]==label ]        \n",
    "            yNew = [list(y)[i] for i in labelIndexes]\n",
    "            yNewLabels = list(set(yNew))\n",
    "            yNewLabelsCount = [list(yNew).count(x) for x in yNewLabels]\n",
    "            yNewCount = len(yNew)\n",
    "            for value in yNewLabelsCount:\n",
    "                labelEntropy -= (value/yNewCount)*m.log(value/yNewCount,2)\n",
    "            labelEntropyList.append(labelEntropy)\n",
    "\n",
    "        featureEntropy = sum([xCount*entropy/instanceCount for xCount, entropy in zip(xLabelsCount, labelEntropyList)])\n",
    "        return featureEntropy\n",
    "\n",
    "    def find_max_information_gain_feature(self, X_ids, feature_ids):\n",
    "        infoGain = self.find_information_gain(X_ids)\n",
    "        maxInfoGain = -1e10\n",
    "        maxInfoGainFeature = -1\n",
    "        for id_ in feature_ids:\n",
    "            entropy = self.find_entropy_of_a_feature(X_ids,id_)\n",
    "            featureInfoGain = infoGain - entropy\n",
    "            # print(\"id\"+str(id_)+\" \"+str(featureInfoGain))\n",
    "            if featureInfoGain > maxInfoGain:\n",
    "                maxInfoGain = featureInfoGain\n",
    "                maxInfoGainFeature = id_\n",
    "        self.infoGain.append(maxInfoGain)\n",
    "        return maxInfoGainFeature, self.feature_names[maxInfoGainFeature]\n",
    "\n",
    "    def id3(self):\n",
    "        xIds = [x for x in range(self.X.shape[0])]\n",
    "        featureIds = [x for x in range(self.X.shape[1])]\n",
    "        self.node = self.id3_recursive(xIds, featureIds, self.node)\n",
    "\n",
    "    def id3_recursive(self, x_ids, feature_ids, node):\n",
    "        if not node:\n",
    "            node = Node()\n",
    "        labels_in_features = [self.y[x] for x in x_ids]\n",
    "        if len(set(labels_in_features)) == 1:           \n",
    "            return  self.y[x_ids[0]]\n",
    "\n",
    "        if len(feature_ids) == 0:\n",
    "            return max(set(labels_in_features), key=labels_in_features.count)             \n",
    "        \n",
    "        best_feature_id, best_feature_name  = self.find_max_information_gain_feature(x_ids, feature_ids)\n",
    "        node.name = best_feature_name\n",
    "        feature_values = list(set([self.X[x][best_feature_id] for x in x_ids]))\n",
    "        for value in feature_values:\n",
    "            x_value_ids = [x for x in x_ids if self.X[x][best_feature_id] == value ]\n",
    "            value_feature_ids = list(feature_ids)\n",
    "            to_remove = value_feature_ids.index(best_feature_id)\n",
    "            value_feature_ids.pop(to_remove)\n",
    "            node.childs[value] = self.id3_recursive(x_value_ids,value_feature_ids, node=None)\n",
    "        return node\n",
    "\n",
    "    def predict(self, x:np.array):\n",
    "        currentNode = self.node\n",
    "        while isinstance(currentNode, Node):\n",
    "            nodeName = currentNode.name\n",
    "            featureIndex = self.feature_names.index(nodeName)\n",
    "            featureValue = x[featureIndex]\n",
    "            if featureValue in currentNode.childs:\n",
    "                currentNode = currentNode.childs[featureValue]\n",
    "            else:\n",
    "                return 0\n",
    "        return currentNode\n",
    "\n",
    "\n",
    "    def score(self, X, y):\n",
    "        count = 0\n",
    "        for x,y_ in zip(X,y):\n",
    "            yHat = self.predict(x)\n",
    "#             print('yHat: '+str(yHat)+' y: '+str(y_))\n",
    "            if yHat == y_:\n",
    "                count += 1\n",
    "        return count/len(y)"
   ]
  },
  {
   "cell_type": "markdown",
   "metadata": {},
   "source": [
    "## 1.1 Debug\n",
    "\n",
    "Debug your model by training on the lenses dataset: [Debug Dataset](https://raw.githubusercontent.com/cs472ta/CS472/master/datasets/lenses.arff)\n",
    "\n",
    "Test your model on the lenses test set: [Debug Test Dataset](https://raw.githubusercontent.com/cs472ta/CS472/master/datasets/lenses_test.arff)\n",
    "\n",
    "Parameters:\n",
    "(optional) counts = [3,2,2,2] (You should compute this when you read in the data, before fitting)\n",
    "\n",
    "---\n",
    "\n",
    "Expected Results: Accuracy = [0.33]\n",
    "\n",
    "Predictions should match this file: [Lenses Predictions](https://raw.githubusercontent.com/cs472ta/CS472/master/debug_solutions/pred_lenses.csv)\n",
    "\n",
    "*NOTE: The [Lenses Prediction](https://raw.githubusercontent.com/cs472ta/CS472/master/debug_solutions/pred_lenses.csv) uses the following encoding: soft=2, hard=0, none=1. If your encoding is different, then your output will be different, but not necessarily incorrect.*\n",
    "\n",
    "Split Information Gains (These do not need to be in this exact order):\n",
    "\n",
    "[0.5487949406953987, 0.7704260414863775, 0.3166890883150208, 1.0, 0.4591479170272447, 0.9182958340544894]\n",
    "\n",
    "<!-- You should be able to get about 68% (61%-82%) predictive accuracy on the lenses data -->\n",
    "\n",
    "Here's what your decision tree splits should look like, and the corresponding child node predictions:\n",
    "\n",
    "Decision Tree:\n",
    "<pre>\n",
    "feature_3 = 0:\n",
    "\tfeature_2 = 0:\n",
    "\t\tfeature_0 = 0:\n",
    "\t\t\tprediction: 2\n",
    "\t\tfeature_0 = 1:\n",
    "\t\t\tfeature_1 = 0:\n",
    "\t\t\t\tprediction: 2\n",
    "\t\t\tfeature_1 = 1:\n",
    "\t\t\t\tprediction: 1\n",
    "\t\tfeature_0 = 2:\n",
    "\t\t\tprediction: 2\n",
    "\tfeature_2 = 1:\n",
    "\t\tfeature_1 = 0:\n",
    "\t\t\tfeature_0 = 0:\n",
    "\t\t\t\tprediction: 1\n",
    "\t\t\tfeature_0 = 1:\n",
    "\t\t\t\tprediction: 1\n",
    "\t\t\tfeature_0 = 2:\n",
    "\t\t\t\tprediction: 0\n",
    "\t\tfeature_1 = 1:\n",
    "\t\t\tprediction: 0\n",
    "feature_3 = 1:\n",
    "\tprediction: 1\n",
    "</pre>"
   ]
  },
  {
   "cell_type": "code",
   "execution_count": 6,
   "metadata": {},
   "outputs": [
    {
     "name": "stdout",
     "output_type": "stream",
     "text": [
      "####################\n",
      "Accuracy: 0.3333333333333333\n",
      "####################\n",
      "info gain: \n",
      "[0.5487949406953986, 0.4931334568174778, 0.32917227207875527, 0.3820802083934297, 0.2704260414863775, 0.4897869792568112]\n"
     ]
    }
   ],
   "source": [
    "# Load debug training data \n",
    "\n",
    "data_train = arff.loadarff('debug_train.arff')\n",
    "df_train = pd.DataFrame(data_train[0])\n",
    "X_train = df_train.iloc[:,:-1].to_numpy().astype(str)\n",
    "y_train = df_train.iloc[:,-1].to_numpy().astype(str)\n",
    "\n",
    "# Train Decision Tree\n",
    "\n",
    "id3 = DTClassifier()\n",
    "self_ = id3.fit(X_train, y_train)\n",
    "\n",
    "# Load debug test data\n",
    "\n",
    "data_test = arff.loadarff('lenses_test.arff')\n",
    "df_test = pd.DataFrame(data_test[0])\n",
    "X_test = df_test.iloc[:,:-1].to_numpy().astype(str)\n",
    "y_test = df_test.iloc[:,-1].to_numpy().astype(str)\n",
    "\n",
    "# Predict and compute model accuracy\n",
    "\n",
    "score = self_.score(X_test,y_test)\n",
    "print('####################')\n",
    "print('Accuracy: '+str(score))                                         \n",
    "                                              \n",
    "\n",
    "# Print the information gain of every split you make.\n",
    "print('####################')\n",
    "print(\"info gain: \")\n",
    "print(self_.infoGain)\n",
    "                                              "
   ]
  },
  {
   "cell_type": "code",
   "execution_count": 7,
   "metadata": {},
   "outputs": [],
   "source": [
    "# Optional/Additional Debugging Dataset - Pizza Homework\n",
    "# pizza_dataset = np.array([[1,2,0],[0,0,0],[0,1,1],[1,1,1],[1,0,0],[1,0,1],[0,2,1],[1,0,0],[0,2,0]])\n",
    "# pizza_labels = np.array([2,0,1,2,1,2,1,1,0])"
   ]
  },
  {
   "cell_type": "markdown",
   "metadata": {},
   "source": [
    "## 1.2 Evaluation\n",
    "\n",
    "We will evaluate your model based on its performance on the zoo dataset. \n",
    "\n",
    "Train your model using this dataset: [Evaluation Train Dataset](https://raw.githubusercontent.com/cs472ta/CS472/master/datasets/zoo.arff)\n",
    "\n",
    "Test your model on this dataset: [Evaluation Test Dataset](https://raw.githubusercontent.com/cs472ta/CS472/master/datasets/zoo_test.arff)\n",
    "\n",
    "Parameters:\n",
    "(optional) counts = [2, 2, 2, 2, 2, 2, 2, 2, 2, 2, 2, 2, 6, 2, 2, 2] (You should compute this when you read in the data, before fitting)\n",
    "\n",
    "---\n",
    "Print out your accuracy on the evaluation test dataset.\n",
    "\n",
    "Print out the information gain of every split you make."
   ]
  },
  {
   "cell_type": "code",
   "execution_count": 8,
   "metadata": {},
   "outputs": [
    {
     "name": "stdout",
     "output_type": "stream",
     "text": [
      "####################\n",
      "Accuracy: 0.147\n",
      "####################\n",
      "info gain: \n",
      "[1.3630469031539394, 0.08239443349700448, 0.5313938602577332, 0.3351741869019712, 0.6314784256287459, -0.1532126241347666, 0.25040650904711853, 0.40180311710413813, 0.7295214225955247]\n"
     ]
    }
   ],
   "source": [
    "# Load evaluation training data\n",
    "\n",
    "data_train = arff.loadarff('zoo.arff')\n",
    "df_train = pd.DataFrame(data_train[0])\n",
    "X_train = df_train.iloc[:,:-1].to_numpy().astype(str)\n",
    "y_train = df_train.iloc[:,-1].to_numpy().astype(str)\n",
    "\n",
    "# Train Decision Tree\n",
    "\n",
    "id3 = DTClassifier()\n",
    "self_ = id3.fit(X_train, y_train)\n",
    "\n",
    "# Load evaluation test data\n",
    "data_test = arff.loadarff('zoo_test.arff')\n",
    "df_test = pd.DataFrame(data_test[0])\n",
    "X_test = df_test.iloc[:,:-1].to_numpy().astype(str)\n",
    "y_test = df_test.iloc[:,-1].to_numpy().astype(str)\n",
    "\n",
    "# Print out the information gain for every split you make\n",
    "\n",
    "score = self_.score(X_test,y_test)\n",
    "print('####################')\n",
    "print('Accuracy: '+str(score))                                         \n",
    "                                              \n",
    "\n",
    "# Print the information gain of every split you make.\n",
    "print('####################')\n",
    "print(\"info gain: \")\n",
    "print(self_.infoGain)\n",
    "\n"
   ]
  },
  {
   "cell_type": "markdown",
   "metadata": {},
   "source": [
    "## 2. (20%) You will use your ID3 algorithm to induce decision trees for the cars dataset and the voting dataset.  Do not use a stopping criteria, but induce the tree as far as it can go (until classes are pure or there are no more data or attributes to split on).  \n",
    "- Implement and use 10-fold Cross Validation (CV) on each data set to predict how well the models will do on novel data.  \n",
    "- For each dataset, report the training and test classification accuracy for each fold and the average test accuracy. \n",
    "- As a rough sanity check, typical decision tree accuracies for these data sets are: Cars: .90-.95, Vote: .92-.95."
   ]
  },
  {
   "cell_type": "markdown",
   "metadata": {},
   "source": [
    "## 2.1 Implement 10-fold Cross Validation"
   ]
  },
  {
   "cell_type": "code",
   "execution_count": 16,
   "metadata": {},
   "outputs": [],
   "source": [
    "# Write a function that implements 10-fold cross validation\n",
    "from random import randrange\n",
    "\n",
    "def cross_validation_split(dataset, folds=10):\n",
    "\tdataset_split = list()\n",
    "\tdataset_copy = list(dataset)\n",
    "\tfold_size = int(len(dataset) / folds)\n",
    "\tfor i in range(folds):\n",
    "\t\tfold = list()\n",
    "\t\twhile len(fold) < fold_size:\n",
    "\t\t\tindex = randrange(len(dataset_copy))\n",
    "\t\t\tfold.append(dataset_copy.pop(index))\n",
    "\t\tdataset_split.append(fold)\n",
    "\treturn dataset_split\n",
    "\n",
    "\n",
    "# print(data_splits[0])\n",
    "def calculate_cross_validation_accuracy(data_splits):\n",
    "    accuracyList = []\n",
    "    for i in range(len(data_splits)):\n",
    "        test_data = np.array(data_splits[i])    \n",
    "        train_data = []\n",
    "        for j in range(len(data_splits)):\n",
    "            if not j==i:\n",
    "                for data_point in data_splits[j]:\n",
    "                    train_data.append(data_point)           \n",
    "        train_data = np.array(train_data)\n",
    "        id3 = DTClassifier()\n",
    "        accuracy = id3.fit(train_data[:,:-1],train_data[:,-1]).score(test_data[:,:-1], test_data[:,-1])\n",
    "        print(\"Accuracy_\"+str(i)+\" : \"+str(accuracy))\n",
    "        accuracyList.append(accuracy)\n",
    "    return sum(accuracyList)/len(accuracyList)"
   ]
  },
  {
   "cell_type": "markdown",
   "metadata": {},
   "source": [
    "##  2.2 Cars Dataset\n",
    "- Use this [Cars Dataset](https://raw.githubusercontent.com/cs472ta/CS472/master/datasets/cars.arff)\n",
    "- Make a table for your K-Fold cross validation accuracies\n",
    "\n",
    "*If you are having trouble using scipy's loadarff function (scipy.io.arff.loadarff), try:*\n",
    "\n",
    "*pip install arff &nbsp;&nbsp;&nbsp;&nbsp;          # Install arff library*\n",
    "\n",
    "*import arff as arf*                   \n",
    "\n",
    "*cars = list(arf.load('cars.arff'))   &nbsp;&nbsp;&nbsp;&nbsp;# Load your downloaded dataset (!curl, etc.)*\n",
    "\n",
    "*df = pd.DataFrame(cars)*  \n",
    "\n",
    "*There may be additional cleaning needed*"
   ]
  },
  {
   "cell_type": "code",
   "execution_count": 20,
   "metadata": {},
   "outputs": [
    {
     "name": "stdout",
     "output_type": "stream",
     "text": [
      "Accuracy_0 : 0.9244186046511628\n",
      "Accuracy_1 : 0.9186046511627907\n",
      "Accuracy_2 : 0.8837209302325582\n",
      "Accuracy_3 : 0.936046511627907\n",
      "Accuracy_4 : 0.877906976744186\n",
      "Accuracy_5 : 0.872093023255814\n",
      "Accuracy_6 : 0.8837209302325582\n",
      "Accuracy_7 : 0.872093023255814\n",
      "Accuracy_8 : 0.8430232558139535\n",
      "Accuracy_9 : 0.9069767441860465\n",
      "###############\n",
      "Average Accuracy: 0.8918604651162789\n"
     ]
    }
   ],
   "source": [
    "# Use 10-fold CV on Cars Dataset\n",
    "# Report Training and Test Classification Accuracies\n",
    "# Report Average Test Accuracy\n",
    "\n",
    "data_ = list(arf.load('cars.arff'))\n",
    "data_ = np.asarray(data_, dtype=str)\n",
    "df = pd.DataFrame(data_)\n",
    "df.fillna(method='ffill', inplace=True)\n",
    "df.fillna(method='bfill', inplace=True)\n",
    "data = df.to_numpy().astype(str)\n",
    "\n",
    "data_splits = cross_validation_split(data)\n",
    "accuracy = calculate_cross_validation_accuracy(data_splits)\n",
    "print('###############')\n",
    "print(\"Average Accuracy: \"+str(accuracy))"
   ]
  },
  {
   "cell_type": "markdown",
   "metadata": {},
   "source": [
    "## 2.3 Voting Dataset\n",
    "- Use this [Voting Dataset with missing values](https://raw.githubusercontent.com/cs472ta/CS472/master/datasets/voting_with_missing.arff)\n",
    "- Note that you will need to support unknown attributes in the voting data set. "
   ]
  },
  {
   "cell_type": "code",
   "execution_count": 17,
   "metadata": {},
   "outputs": [
    {
     "name": "stdout",
     "output_type": "stream",
     "text": [
      "Accuracy_0 : 0.8837209302325582\n",
      "Accuracy_1 : 0.9302325581395349\n",
      "Accuracy_2 : 0.9069767441860465\n",
      "Accuracy_3 : 0.9534883720930233\n",
      "Accuracy_4 : 0.9534883720930233\n",
      "Accuracy_5 : 0.8837209302325582\n",
      "Accuracy_6 : 0.9069767441860465\n",
      "Accuracy_7 : 1.0\n",
      "Accuracy_8 : 0.9767441860465116\n",
      "Accuracy_9 : 0.9069767441860465\n",
      "###############\n",
      "Average Accuracy: 0.9302325581395348\n"
     ]
    }
   ],
   "source": [
    "# Used 10-fold CV on Voting Dataset\n",
    "# Report Training and Test Classification Accuracies\n",
    "# Report Average Test Accuracy\n",
    "\n",
    "data_ = arff.loadarff('voting_with_missing.arff')\n",
    "df = pd.DataFrame(data_[0])\n",
    "features = df.columns.values\n",
    "data = df.to_numpy().astype(str)\n",
    "df = pd.DataFrame(data, columns=features)\n",
    "df = df.replace('?', np.nan)\n",
    "df.fillna(method='ffill', inplace=True)\n",
    "df.fillna(method='bfill', inplace=True)\n",
    "\n",
    "data_splits = cross_validation_split(data)\n",
    "accuracy = calculate_cross_validation_accuracy(data_splits)\n",
    "print('###############')\n",
    "print(\"Average Accuracy: \"+str(accuracy))"
   ]
  },
  {
   "cell_type": "markdown",
   "metadata": {},
   "source": [
    "## 2.4 Discuss Your Results\n",
    "\n",
    "- Summarize your results from both datasets, and discuss what you observed. \n",
    "- A fully expanded tree will often get 100% accuracy on the training set. Why does this happen and in what cases might it not?  "
   ]
  },
  {
   "cell_type": "markdown",
   "metadata": {},
   "source": [
    "Discuss your results"
   ]
  },
  {
   "cell_type": "markdown",
   "metadata": {},
   "source": [
    "## 3. (15%) For each of the two problems above, summarize in English what the decision tree has learned (i.e. look at the induced tree and describe what rules it has discovered to try to solve each task). \n",
    "- If the tree is very large you can just discuss a few of the more shallow attribute combinations and the most important decisions made high in the tree."
   ]
  },
  {
   "cell_type": "markdown",
   "metadata": {},
   "source": [
    "## 3.1 Discuss what the decision tree induced on the cars dataset has learned"
   ]
  },
  {
   "cell_type": "markdown",
   "metadata": {},
   "source": [
    "Discussion Here"
   ]
  },
  {
   "cell_type": "markdown",
   "metadata": {},
   "source": [
    "## 3.2 Discuss what the decision tree induced on the voting dataset has learned"
   ]
  },
  {
   "cell_type": "markdown",
   "metadata": {},
   "source": [
    "Discussion Here"
   ]
  },
  {
   "cell_type": "markdown",
   "metadata": {},
   "source": [
    "## 3.3 How did you handle unknown attributes in the voting problem? Why did you choose this approach? (Do not use the approach of just throwing out data with unknown attributes)."
   ]
  },
  {
   "cell_type": "markdown",
   "metadata": {},
   "source": [
    "Discuss how you handled unknown attributes"
   ]
  },
  {
   "cell_type": "markdown",
   "metadata": {},
   "source": [
    "## 4.1 (10%) Use SciKit Learn's decision tree on the voting dataset and compare your results. Try different parameters and report what parameters perform the best on the test set. "
   ]
  },
  {
   "cell_type": "markdown",
   "metadata": {},
   "source": [
    "### 4.1.1 SK Learn on Voting Dataset\n",
    "- Use this [Voting Dataset with missing values](https://raw.githubusercontent.com/cs472ta/CS472/master/datasets/voting_with_missing.arff)"
   ]
  },
  {
   "cell_type": "code",
   "execution_count": 12,
   "metadata": {},
   "outputs": [],
   "source": [
    "# Use SK Learn's Decision Tree to learn the voting dataset\n",
    "\n",
    "# Explore different parameters\n",
    "\n",
    "# Report results"
   ]
  },
  {
   "cell_type": "markdown",
   "metadata": {},
   "source": [
    "Discuss results & compare to your method's results"
   ]
  },
  {
   "cell_type": "markdown",
   "metadata": {},
   "source": [
    "## 4.2 (10%) Choose a data set of your choice (not already used in this or previous labs) and use the SK decision tree to learn it. Experiment with different hyper-parameters to try to get the best results possible."
   ]
  },
  {
   "cell_type": "code",
   "execution_count": 13,
   "metadata": {},
   "outputs": [],
   "source": [
    "# Use SciKit Learn's Decision Tree on a new dataset\n",
    "\n",
    "# Experiment with different hyper-parameters"
   ]
  },
  {
   "cell_type": "markdown",
   "metadata": {},
   "source": [
    "## 5. (5%) Visualize sklearn's decision tree for your chosen data set (using export_graphviz or another tool) and discuss what you find. If your tree is too deep to reasonably fit on one page, show only the first several levels (e.g. top 5)."
   ]
  },
  {
   "cell_type": "code",
   "execution_count": 14,
   "metadata": {},
   "outputs": [],
   "source": [
    "# Include decision tree visualization here\n",
    "\n",
    "# Discuss what the model has learned"
   ]
  },
  {
   "cell_type": "markdown",
   "metadata": {},
   "source": [
    "## 6. (optional 5% extra credit) Implement reduced error pruning to help avoid overfitting.  \n",
    "- You will need to take a validation set out of your training data to do this, while still having a test set to test your final accuracy. \n",
    "- Create a table comparing your decision tree implementation's results on the cars and voting data sets with and without reduced error pruning. \n",
    "- This table should compare:\n",
    "    - a) The # of nodes (including leaf nodes) and tree depth of the final decision trees \n",
    "    - b) The generalization (test set) accuracy. (For the unpruned 10-fold CV models, just use their average values in the table)."
   ]
  },
  {
   "cell_type": "code",
   "execution_count": null,
   "metadata": {},
   "outputs": [],
   "source": []
  }
 ],
 "metadata": {
  "kernelspec": {
   "display_name": "Python 3",
   "language": "python",
   "name": "python3"
  },
  "language_info": {
   "codemirror_mode": {
    "name": "ipython",
    "version": 3
   },
   "file_extension": ".py",
   "mimetype": "text/x-python",
   "name": "python",
   "nbconvert_exporter": "python",
   "pygments_lexer": "ipython3",
   "version": "3.8.5"
  }
 },
 "nbformat": 4,
 "nbformat_minor": 4
}

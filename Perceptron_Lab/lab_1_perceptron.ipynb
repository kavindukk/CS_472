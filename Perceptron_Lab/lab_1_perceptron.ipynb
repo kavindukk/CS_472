{
 "cells": [
  {
   "cell_type": "markdown",
   "metadata": {
    "id": "DVL7_bgmIAPR"
   },
   "source": [
    "# Perceptron Lab\n",
    "\n",
    "\n",
    "\n"
   ]
  },
  {
   "cell_type": "code",
   "execution_count": 5,
   "metadata": {
    "id": "6ZbYjZZZ_yLV"
   },
   "outputs": [],
   "source": [
    "from sklearn.base import BaseEstimator, ClassifierMixin\n",
    "from sklearn.linear_model import Perceptron\n",
    "import numpy as np\n",
    "import matplotlib.pyplot as plt\n",
    "\n",
    "from scipy.io import arff\n",
    "import pandas as pd"
   ]
  },
  {
   "cell_type": "markdown",
   "metadata": {
    "id": "sCcEPx5VIORj"
   },
   "source": [
    "## 1. (40%) Correctly implement and submit your own code for the perceptron learning algorithm. \n",
    "\n",
    "### Code requirements\n",
    "- Shuffle the data each epoch.\n",
    "- A way to create a random train/test split. Write your own. In the future you can use the scikit-learn version if you want.\n",
    "- Use Stochastic/On-line training updates: Iterate and update weights after each training instance (i.e. do not attempt batch updates)\n",
    "- Implement a stopping criteria: when your model has trained for a number of epochs with no significant improvement in accuracy, stop training. Note that the weights/accuracy do not usually change monotonically.\n",
    "- Use your perceptron to solve the Debug data. We provide you with several parameters, and you should be able to replicate our results every time. When you are confident it is correct, run your perceptron on the Evaluation data with the same parameters, and print your final weights and accuracy."
   ]
  },
  {
   "cell_type": "code",
   "execution_count": 7,
   "metadata": {
    "id": "_a2KSZ_7AN0G"
   },
   "outputs": [],
   "source": [
    "class PerceptronClassifier(BaseEstimator,ClassifierMixin):\n",
    "    def __init__(self, lr=.1, shuffle=True, epochs=None):\n",
    "        \"\"\" \n",
    "            Initialize class with chosen hyperparameters.\n",
    "        Args:\n",
    "            lr (float): A learning rate / step size.\n",
    "            shuffle: Whether to shuffle the training data each epoch. DO NOT \n",
    "            SHUFFLE for evaluation / debug datasets.\n",
    "        \"\"\"\n",
    "        self.lr = lr\n",
    "        self.shuffle = shuffle\n",
    "        self.epochs = epochs\n",
    "        self.accuracy=0\n",
    "\n",
    "    def fit(self, X: np.ndarray, y: np.ndarray, initial_weights=None):\n",
    "        \"\"\" \n",
    "            Fit the data; run the algorithm and adjust the weights to find a \n",
    "            good solution\n",
    "        Args:\n",
    "            X (array-like): A 2D numpy array with the training data, excluding\n",
    "            targets\n",
    "            y (array-like): A 2D numpy array with the training targets\n",
    "            initial_weights (array-like): allows the user to provide initial \n",
    "            weights\n",
    "        Returns:\n",
    "            self: this allows this to be chained, e.g. model.fit(X,y).predict(X_test)\n",
    "        \"\"\"\n",
    "        \n",
    "        self.weights = self.initialize_weights(X.shape[1]) if not initial_weights else initial_weights               \n",
    "        self.X = X\n",
    "        self.y = y\n",
    "\n",
    "        bias = np.ones(X.shape[0]).reshape(X.shape[0],1)\n",
    "        X = np.append(X, bias, axis=1)\n",
    "   \n",
    "        if self.epochs == None:\n",
    "            i=0\n",
    "\n",
    "            while self.accuracy <= .95 and i <=50:\n",
    "#                 print(\"Epoch \" + str(i+1))\n",
    "                self.epoch(X)\n",
    "                self.accuracy = self.score(X[:,:-1], self.y)\n",
    "                i = i + 1\n",
    "#                 print(\"Accuracy: \" + str(self.score(X, self.y)) + \"\\n\")                 \n",
    "        else:\n",
    "            for i in range(self.epochs):\n",
    "#                 print(\"Epoch \" + str(i+1))\n",
    "                self.epoch(X)\n",
    "#                 print(\"Accuracy: \" + str(self.score(X, self.y)) + \"\\n\")         \n",
    "        return self      \n",
    "\n",
    "    def predict(self, X:np.ndarray):\n",
    "        \"\"\" \n",
    "            Predict all classes for a dataset X\n",
    "        Args:\n",
    "            X (array-like): A 2D numpy array with the training data, excluding \n",
    "            targets\n",
    "        Returns:\n",
    "            array, shape (n_samples,)\n",
    "                Predicted target values per element in X.\n",
    "        \"\"\"\n",
    "        net  = X @ self.weights\n",
    "        net = net.tolist()\n",
    "        yHat = [1 if item>0 else 0 for item in net]\n",
    "        return yHat\n",
    "\n",
    "    def initialize_weights(self, n):\n",
    "        \"\"\" Initialize weights for perceptron. Don't forget the bias!\n",
    "        Returns:\n",
    "        \"\"\"\n",
    "        weights = np.zeros((n+1))\n",
    "        return weights\n",
    "\n",
    "    def score(self, X, y):\n",
    "        \"\"\" \n",
    "            Return accuracy of model on a given dataset. Must implement own \n",
    "            score function.\n",
    "        Args:\n",
    "            X (array-like): A 2D numpy array with data, excluding targets\n",
    "            y (array-like): A 2D numpy array with targets\n",
    "        Returns:\n",
    "            score : float\n",
    "                Mean accuracy of self.predict(X) wrt. y.\n",
    "        \"\"\"\n",
    "        bias = np.ones(X.shape[0]).reshape(X.shape[0],1)\n",
    "        X = np.append(X, bias, axis=1)\n",
    "        yHat = self.predict(X)\n",
    "        counter = 0\n",
    "        for yy, yh in zip(y, yHat):\n",
    "            if yy == yh:\n",
    "                counter = counter + 1\n",
    "        self.accuracy = counter/len(y)\n",
    "#         self.print_data()\n",
    "        return counter/len(y)\n",
    "\n",
    "    def _shuffle_data(self, X, y):\n",
    "        \"\"\" \n",
    "            Shuffle the data! This _ prefix suggests that this method should \n",
    "            only be called internally.\n",
    "            It might be easier to concatenate X & y and shuffle a single 2D \n",
    "            array, rather than shuffling X and y exactly the same way, \n",
    "            independently.\n",
    "        \"\"\"\n",
    "        concat = np.append(X,y.reshape(len(y),1), axis=1)\n",
    "        np.random.shuffle(concat)\n",
    "        return concat[:, :-1], concat[:,-1]\n",
    "    \n",
    "    def epoch(self,X):\n",
    "        if self.shuffle == True:\n",
    "            X, y = self._shuffle_data(X,self.y)\n",
    "        else:\n",
    "            y = self.y\n",
    "\n",
    "        net = None\n",
    "        output = None\n",
    "\n",
    "        for i in range(X.shape[0]):        \n",
    "            net = np.dot(X[i],self.weights)\n",
    "            output = 1 if net > 0 else 0\n",
    "            dWeight = self.lr*(y[i] - output)*X[i]\n",
    "            self.weights = self.weights + dWeight\n",
    "#         print(\"Weights: \" +np.array2string(self.weights, precision=2, separator=',',suppress_small=True ))     \n",
    "    \n",
    "    def create_test_data(self, X, y, percentage):\n",
    "        #Give the percentage as a value from 0-1; 10% eqals to 0.1\n",
    "        concat = np.append(X,y.reshape(len(y),1), axis=1)\n",
    "        noOfDataPoints = X.shape[0] * percentage\n",
    "        noOfDataPoints = int(np.rint(noOfDataPoints))\n",
    "        concat = concat[np.random.choice(concat.shape[0], noOfDataPoints, replace=False)]\n",
    "        return concat[:, :-1], concat[:,-1]\n",
    "    \n",
    "    def print_data(self):\n",
    "        print(\"Weights: \" +np.array2string(self.weights, precision=2, separator=',',suppress_small=True ))\n",
    "        print(\"Accuracy: \" + str(self.accuracy) + \"\\n\")\n",
    "\n",
    "\n",
    "    ### Not required by sk-learn but required by us for grading. Returns the weights.\n",
    "    def get_weights(self):\n",
    "        return self.weights"
   ]
  },
  {
   "cell_type": "markdown",
   "metadata": {
    "id": "KibCIXIThpbE"
   },
   "source": [
    "## 1.1 Debug and Evaluation\n",
    "\n",
    "Debug and Evaluate your model using the parameters below\n",
    "\n",
    "Learning Rate = 0.1 \\ \n",
    "Deterministic = 10 [This means run it 10 epochs and should be the same everytime you run it] \\ \n",
    "Shuffle = False \\ \n",
    "Initial Weights = All zeros\n",
    "\n",
    "---\n",
    "\n",
    "### 1.1.1 Debug\n",
    "\n",
    "Debug your model by running it on the [debug dataset](https://raw.githubusercontent.com/cs472ta/CS472/master/datasets/linsep2nonorigin.arff)\n",
    "\n",
    "Expected Results:\n",
    "\n",
    "Accuracy = [0.88]\\\n",
    "Final Weights = [-0.23  0.18 -0.1 ]"
   ]
  },
  {
   "cell_type": "code",
   "execution_count": 8,
   "metadata": {
    "id": "KgAyy82gixIF"
   },
   "outputs": [
    {
     "name": "stdout",
     "output_type": "stream",
     "text": [
      "Weights: [-0.23, 0.18,-0.1 ]\n",
      "Accuracy: 0.875\n",
      "\n"
     ]
    }
   ],
   "source": [
    "# Load debug data\n",
    "data = arff.loadarff(\"linsep2nonorigin.arff\")\n",
    "df = pd.DataFrame(data[0])\n",
    "X = df.iloc[:,:-1].to_numpy()\n",
    "Y = df.iloc[:,-1].to_numpy().astype(np.int)\n",
    "\n",
    "# Train on debug data\n",
    "A = PerceptronClassifier(lr=0.1, shuffle=False, epochs=10)\n",
    "xEval, yEval = A.create_test_data(X,Y,1)\n",
    "Accuracy = A.fit(X=X, y=Y).score(xEval,yEval)\n",
    "\n",
    "# Print accuracy and weights\n",
    "A.print_data()"
   ]
  },
  {
   "cell_type": "markdown",
   "metadata": {
    "id": "kY3VNB1ui03N"
   },
   "source": [
    "### 1.1.2 Evaluation\n",
    "\n",
    "We will evaluate your model based on it's performance on the [evaluation dataset](https://raw.githubusercontent.com/cs472ta/CS472/master/datasets/data_banknote_authentication.arff)"
   ]
  },
  {
   "cell_type": "code",
   "execution_count": 9,
   "metadata": {
    "id": "2yAxA78QjDh2"
   },
   "outputs": [
    {
     "name": "stdout",
     "output_type": "stream",
     "text": [
      "Weights: [-3.81,-2.84,-3.07,-1.4 , 4.9 ]\n",
      "Accuracy: 0.9876093294460642\n",
      "\n"
     ]
    }
   ],
   "source": [
    "# Load evaluation data\n",
    "data = arff.loadarff(\"data_banknote_authentication.arff\")\n",
    "df = pd.DataFrame(data[0])\n",
    "X = df.iloc[:,:-1].to_numpy()\n",
    "Y = df.iloc[:,-1].to_numpy().astype(np.int)\n",
    "\n",
    "# Train on evaluation data\n",
    "A = PerceptronClassifier(lr=0.1, shuffle=False, epochs=10)\n",
    "xEval, yEval = A.create_test_data(X,Y,1)\n",
    "Accuracy = A.fit(X=X, y=Y).score(xEval,yEval)\n",
    "\n",
    "# Print accuracy and weights\n",
    "A.print_data()"
   ]
  },
  {
   "cell_type": "markdown",
   "metadata": {
    "id": "9vWiTdlbR2Xh"
   },
   "source": [
    "## 2. (30%) Classifying on linearly separable and non-linearly separable data\n",
    "\n",
    "### 2.1 Create 2 datasets\n",
    "\n",
    "- Both with 8 instances using 2 real valued inputs (ranging between -1 and 1) with 4 instances from each class. \n",
    "- One data set should be linearly separable and the other not.\n",
    "\n"
   ]
  },
  {
   "cell_type": "code",
   "execution_count": 42,
   "metadata": {
    "id": "4SSoasDQSKXb"
   },
   "outputs": [],
   "source": [
    "# Create 2 datasets\n",
    "X =np.array([[ 0.64103445,  0.57113097], #0\n",
    "            [ 0.14870999,  0.4965233 ], #0\n",
    "            [-0.61486469,  0.17966101], #1\n",
    "            [-0.07438986,  0.15474078], #0\n",
    "            [-0.32152466,  0.03222221], #1\n",
    "            [-0.27786684, -0.81646716], #0 \n",
    "            [-0.46845909,  0.18435119], #1\n",
    "            [-0.90161435, -0.17391953]]) #1\n",
    "\n",
    "X1 = np.array([[ 0.64103445,  0.57113097], #0\n",
    "            [ 0.14870999,  0.4965233 ], #0\n",
    "            [-0.07438986,  0.15474078], #0\n",
    "            [-0.27786684, -0.81646716]]) #0 \n",
    "\n",
    "X2 = np.array([[-0.61486469,  0.17966101],\n",
    "            [-0.32152466,  0.03222221], #1\n",
    "            [-0.46845909,  0.18435119], #1\n",
    "            [-0.90161435, -0.17391953]]) #1\n",
    "\n",
    "# Linearly Separable Data set\n",
    "y1 = np.array([0,0,1,0,1, 0, 1, 1 ])\n",
    "\n",
    "#Linearly Inseparable Data set \n",
    "y2 = np.array([0,0,0,0,1, 1, 1, 1 ])"
   ]
  },
  {
   "cell_type": "markdown",
   "metadata": {
    "id": "SIRG42TgSR4x"
   },
   "source": [
    "### 2.2 Train on both sets with your perceptron code (with LR=.1)"
   ]
  },
  {
   "cell_type": "code",
   "execution_count": 56,
   "metadata": {
    "id": "KBGUn43ASiXW"
   },
   "outputs": [],
   "source": [
    "# Train on each dataset\n",
    "A1 = PerceptronClassifier(lr=0.1, shuffle=False, epochs=10)\n",
    "w1 = A1.fit(X=X, y=y1).get_weights()\n",
    "\n",
    "A2 = PerceptronClassifier(lr=0.1, shuffle=False, epochs=10)\n",
    "w2 = A2.fit(X=X, y=y2).get_weights()"
   ]
  },
  {
   "cell_type": "markdown",
   "metadata": {
    "id": "v19fpixqTe-7"
   },
   "source": [
    "### 2.3 Graph the datasets and their corresponding decision line\n",
    " \n",
    " - Graph each dataset\n",
    " - Use your trained perceptrons above to determine each dataset's decision line\n",
    " - For all graphs always label the axes!\n",
    " \n",
    "![Linearly Separable Data](https://raw.githubusercontent.com/rmorain/CS472-1/master/images/perceptron/linearly_separable.png)\n",
    "\n",
    "![Not Linearly Separable](https://raw.githubusercontent.com/rmorain/CS472-1/master/images/perceptron/not_linearly_separable.png)"
   ]
  },
  {
   "cell_type": "code",
   "execution_count": 57,
   "metadata": {
    "id": "ZCPFUAGTS2sX"
   },
   "outputs": [
    {
     "data": {
      "image/png": "[encoded data removed]",
      "text/plain": [
       "<Figure size 640x480 with 1 Axes>"
      ]
     },
     "metadata": {},
     "output_type": "display_data"
    },
    {
     "data": {
      "image/png": "[encoded data removed]",
      "text/plain": [
       "<Figure size 640x480 with 1 Axes>"
      ]
     },
     "metadata": {},
     "output_type": "display_data"
    }
   ],
   "source": [
    "# Graph datasets and decision lines\n",
    "\n",
    "def graph(X, y, weight, title):\n",
    "    x1Data = np.linspace(-1, 1, num=50)\n",
    "    x2Data = (-weight[0]/weight[1])*x1Data +(-weight[2]/weight[1])\n",
    "    for i in range(len(X)):\n",
    "        if y[i] == 1:\n",
    "            plt.scatter(X[i,0],X[i,1], c='r')\n",
    "        else:\n",
    "            plt.scatter(X[i,0],X[i,1], c='b')\n",
    "#     plt.scatter(X[:,0],X[:,1])\n",
    "    plt.plot(x1Data,x2Data, c='k')\n",
    "    plt.grid()\n",
    "    plt.xlabel('X1')\n",
    "    plt.ylabel('X2')\n",
    "    plt.title(title)\n",
    "    plt.show()\n",
    "\n",
    "graph(X,y1,w1, \"Linearly Separable Data Set\")\n",
    "graph(X,y2,w2, \"Linearly Non Separable Data Set\")"
   ]
  },
  {
   "cell_type": "markdown",
   "metadata": {},
   "source": [
    "### 2.4 Discuss why the perceptron won’t converge on non-linearly separable data."
   ]
  },
  {
   "cell_type": "markdown",
   "metadata": {},
   "source": [
    "From looking at the graph it is obvious that there is no any possible line that could seperate the data set. So, my understanding is once we go through the epoch the weights get adjusted according to latter elements of the list wchich does not work with the top elements. So, the final outcome is a line which doesn't seperate things properly unless quadaric terms and a nonlinear line is used."
   ]
  },
  {
   "cell_type": "markdown",
   "metadata": {
    "id": "0ySvhd1lUGSe"
   },
   "source": [
    "## 3. (20%) Use your perceptron code to learn this version of the [voting data set](https://raw.githubusercontent.com/cs472ta/CS472/master/datasets/voting-dataset.arff).\n",
    "\n",
    "This particular task is an edited version of the standard voting set, where we have replaced all the “don’t know” values with the most common value for the particular attribute.  \n",
    "\n",
    "### 3.1 Create a table that reports the final training and test set accuracy and the number of epochs for each trial.\n",
    "\n",
    "- Try it five times with different random 70/30 splits. \n",
    "- Use your own code to randomize and make splits. \n",
    "- Report the 5 trials and the average across the 5 trials in a table.  \n",
    "\n",
    "| Trial | Training Accuracy | Test accuracy | Number of epochs |\n",
    "| --- | --- | --- | --- |\n",
    "| 1 | .95 | .55 | 4 |\n",
    "| 2 | .85 | .45 | 6 |\n",
    "| Average | .9 | .5 | 5 | \n",
    "\n",
    "*- As a rough sanity check, typical Perceptron test accuracies for the voting data set are 90%-98%.*\n"
   ]
  },
  {
   "cell_type": "code",
   "execution_count": 10,
   "metadata": {
    "id": "Romyl4G8Trki"
   },
   "outputs": [
    {
     "name": "stdout",
     "output_type": "stream",
     "text": [
      "[(0.9492753623188406, 0.9504643962848297, 1), (0.9855072463768116, 0.9473684210526315, 2), (0.9637681159420289, 0.9411764705882353, 3), (0.9782608695652174, 0.9566563467492261, 4), (0.9855072463768116, 0.9287925696594427, 5), (0.9637681159420289, 0.9411764705882353, 6)]\n"
     ]
    }
   ],
   "source": [
    "# Create the table any way you like\n",
    "from sklearn.preprocessing import LabelEncoder\n",
    "\n",
    "voting_data = arff.loadarff('voting-dataset.arff')\n",
    "voting_df = pd.DataFrame(voting_data[0])\n",
    "voting_label_encoded_df = voting_df.apply(LabelEncoder().fit_transform)\n",
    "X = voting_label_encoded_df.to_numpy()\n",
    "\n",
    "Accuracy = list()\n",
    "\n",
    "def split_data(X: np.ndarray, percentage):\n",
    "    testN = int(X.shape[0]*percentage)\n",
    "    np.random.shuffle(X)\n",
    "    xTrain, xEval = X[:testN,:], X[testN:,:]\n",
    "    return xTrain, xEval\n",
    "\n",
    "for i in range(1,7):\n",
    "    xTrain, xEval = split_data(X, percentage=0.3)\n",
    "    A = PerceptronClassifier(lr=0.1, shuffle=True, epochs=i*4)\n",
    "    aSelf = A.fit(X=xTrain[:,:-1], y=xTrain[:,-1])\n",
    "    trainAcc = aSelf.score(X=xTrain[:,:-1], y=xTrain[:,-1])\n",
    "    testAcc = aSelf.score(xEval[:,:-1],xEval[:,-1])\n",
    "    Accuracy.append((trainAcc,testAcc, i))\n",
    "    \n",
    "print(Accuracy)"
   ]
  },
  {
   "cell_type": "markdown",
   "metadata": {},
   "source": [
    "| Trial | Training Accuracy | Test accuracy | Number of epochs |\n",
    "| --- | --- | --- | --- |\n",
    "| 1 | .76 | .68 | 4 |\n",
    "| 2 | .94 | .91 | 8 |\n",
    "| 3 | .99 | .93 | 12 |\n",
    "| 4 | .97 | .96 | 16 |\n",
    "| 5 | .98 | .93 | 20 |\n",
    "| Average | .92 | .88 | 5 | "
   ]
  },
  {
   "cell_type": "markdown",
   "metadata": {
    "id": "cm4rbWkzVeoR"
   },
   "source": [
    "### 3.2 By looking at the weights, explain what the model has learned and how the individual input features affect the result. Which specific features are most critical for the voting task, and which are least critical? \n"
   ]
  },
  {
   "cell_type": "markdown",
   "metadata": {
    "id": "g3F0Qp-BVi1R"
   },
   "source": [
    "Once a weight value is high the that attribute contributes to the decesion compared to other attributes.\n",
    "From the received weight values, absolute weight for following catogories looks higher to me considered to others. \n",
    "%    3. water-project-cost-sharing: 2 (y,n)\n",
    "%    4. adoption-of-the-budget-resolution: 2 (y,n)\n",
    "%   11. immigration: 2 (y,n)\n",
    "\n",
    "So, I conclude that these factors would affect significantly compared to other factors."
   ]
  },
  {
   "cell_type": "markdown",
   "metadata": {
    "id": "NyUmJ4yWVsQ7"
   },
   "source": [
    "### 3.3 Make a graph of the average misclassification rate vs epochs (0th – final epoch).\n",
    "\n",
    "- Average the misclassification rate for the training set across your 5 trials (not across 5 epochs).\n",
    "\n",
    "\n",
    "![Average Misclassification Rate](https://raw.githubusercontent.com/rmorain/CS472-1/master/images/perceptron/avg_misclassification_rate_vs_epochs.png)"
   ]
  },
  {
   "cell_type": "code",
   "execution_count": 15,
   "metadata": {
    "id": "2_ZRPWWVVeFM"
   },
   "outputs": [
    {
     "data": {
      "image/png": "[encoded data removed]",
      "text/plain": [
       "<Figure size 640x480 with 1 Axes>"
      ]
     },
     "metadata": {},
     "output_type": "display_data"
    }
   ],
   "source": [
    "# Graph here\n",
    "error = list()\n",
    "for i in range(1,20):\n",
    "    xTrain, xEval = split_data(X, percentage=0.3)\n",
    "    A = PerceptronClassifier(lr=0.1, shuffle=True, epochs=None)\n",
    "    acc = A.fit(X=xTrain[:,:-1], y=xTrain[:,-1]).score(xEval[:,:-1],xEval[:,-1])\n",
    "#     acc = A.fit(X=xTrain[:,:-1], y=xTrain[:,-1]).score(xTrain[:,:-1],xTrain[:,-1])\n",
    "    error.append(1 - acc)\n",
    "    \n",
    "def plot_misclassification(avg_misclassification_rate):\n",
    "    \"\"\"\n",
    "        Plots the average misclassification rate\n",
    "    Args:\n",
    "        avg_misclassification_rate (array-like): A 1D array or list\n",
    "    \"\"\"\n",
    "    plt.plot(np.arange(len(avg_misclassification_rate)), avg_misclassification_rate)\n",
    "    plt.title(\"Average Misclassification Rate vs. Epoch\")\n",
    "    plt.xlabel(\"Epoch\")\n",
    "    plt.ylabel(\"Misclassification Rate\")\n",
    "    plt.grid()\n",
    "    plt.show()\n",
    "    \n",
    "plot_misclassification(error)   \n"
   ]
  },
  {
   "cell_type": "markdown",
   "metadata": {
    "id": "oBBmeNQ7jvcQ"
   },
   "source": [
    "## 4.1 (5%) Use the perceptron algorithm from the [scikit-learn toolkit](https://scikit-learn.org/stable/modules/generated/sklearn.linear_model.Perceptron.html) to learn the voting task above.\n",
    "- Report and compare your results with your own perceptron code."
   ]
  },
  {
   "cell_type": "code",
   "execution_count": 14,
   "metadata": {
    "id": "OFQv70W2VyqJ"
   },
   "outputs": [
    {
     "name": "stdout",
     "output_type": "stream",
     "text": [
      "0.9568345323741008\n"
     ]
    },
    {
     "name": "stderr",
     "output_type": "stream",
     "text": [
      "c:\\users\\kavin\\appdata\\local\\programs\\python\\python38-32\\lib\\site-packages\\sklearn\\linear_model\\_stochastic_gradient.py:574: ConvergenceWarning: Maximum number of iteration reached before convergence. Consider increasing max_iter to improve the fit.\n",
      "  warnings.warn(\"Maximum number of iteration reached before \"\n"
     ]
    }
   ],
   "source": [
    "# Load sklearn perceptron\n",
    "\n",
    "from sklearn.model_selection import train_test_split\n",
    "from sklearn.linear_model import Perceptron\n",
    "\n",
    "xTrain, xEval, yTrain, yEval = train_test_split(X[:,:-1], X[:,-1], test_size=0.3)\n",
    "\n",
    "# Train on voting dataset\n",
    "\n",
    "clf = Perceptron(max_iter=8, eta0=0.1)\n",
    "clf.fit(xTrain,yTrain)\n",
    "print(clf.score(xEval,yEval))"
   ]
  },
  {
   "cell_type": "markdown",
   "metadata": {},
   "source": [
    "SKlearn model accuracy values always seem to be higher than the values of my model with same conditions and same epoch numbers."
   ]
  },
  {
   "cell_type": "markdown",
   "metadata": {},
   "source": [
    "## 4.2 (5%) Use the perceptron algorithm from the [scikit-learn toolkit](https://scikit-learn.org/stable/modules/generated/sklearn.linear_model.Perceptron.html) to learn one other data set of your choice.\n",
    "- Try out some of the hyper-parameters that scikit-learn makes available."
   ]
  },
  {
   "cell_type": "code",
   "execution_count": 14,
   "metadata": {},
   "outputs": [
    {
     "name": "stdout",
     "output_type": "stream",
     "text": [
      "Accuracy: 0.95\n"
     ]
    }
   ],
   "source": [
    "# Load sklearn perceptron\n",
    "\n",
    "from sklearn.datasets import load_breast_cancer\n",
    "from sklearn.preprocessing import StandardScaler\n",
    "\n",
    "BC = load_breast_cancer()\n",
    "X = BC.data\n",
    "y = BC.target\n",
    "\n",
    "X_train, X_test, y_train, y_test = train_test_split(X, y, test_size=0.3)\n",
    "\n",
    "# Train on your dataset\n",
    "\n",
    "sc = StandardScaler()\n",
    "sc.fit(X_train)\n",
    "X_train_std = sc.transform(X_train)\n",
    "X_test_std = sc.transform(X_test)\n",
    "# ppn = Perceptron(n_iter=40, eta0=0.1)\n",
    "ppn = Perceptron()\n",
    "ppn.fit(X_train_std, y_train)\n",
    "\n",
    "print('Accuracy: %.2f' % ppn.score(X_test_std, y_test))\n"
   ]
  },
  {
   "cell_type": "markdown",
   "metadata": {
    "id": "BqSFAXwlk3Ms"
   },
   "source": [
    "I tried to play around with the learning rate and and maximum number of epochs to get the maximum accuracy."
   ]
  },
  {
   "cell_type": "markdown",
   "metadata": {
    "id": "cTlK-kijk8Mg"
   },
   "source": [
    "## 5. (Optional 5% extra credit) Use the perceptron rule to learn the [iris task](https://raw.githubusercontent.com/cs472ta/CS472/master/datasets/iris.arff) or some other task with more than two possible output values. \n",
    "\n",
    "Note that the [iris data](https://raw.githubusercontent.com/cs472ta/CS472/master/datasets/iris.arff) set has 3 output classes, and a perceptron node only has two possible outputs.  You could implement either of the two most common ways to deal with this. For testing you just execute the novel instance on each model and combine the overall results to see which output class wins."
   ]
  },
  {
   "cell_type": "code",
   "execution_count": null,
   "metadata": {
    "id": "5iY77P7gk1Nh"
   },
   "outputs": [],
   "source": [
    "from  sklearn.datasets import load_iris\n",
    "from sklearn.model_selection import train_test_split\n",
    "from sklearn import tree\n",
    "from sklearn.metrics import accuracy_score\n",
    "\n",
    "iris=load_iris()\n",
    "x=iris.data\n",
    "y=iris.target\n",
    "x_train,x_test,y_train,y_test=train_test_split(x,y,test_size=.3)\n",
    "\n",
    "classifier=tree.DecisionTreeClassifier()\n",
    "classifier.fit(x_train,y_train)\n",
    "predictions=classifier.predict(x_test)\n",
    "\n",
    "print(accuracy_score(y_test,predictions))"
   ]
  }
 ],
 "metadata": {
  "colab": {
   "collapsed_sections": [],
   "name": "lab 1 - perceptron",
   "provenance": []
  },
  "kernelspec": {
   "display_name": "Python 3",
   "language": "python",
   "name": "python3"
  },
  "language_info": {
   "codemirror_mode": {
    "name": "ipython",
    "version": 3
   },
   "file_extension": ".py",
   "mimetype": "text/x-python",
   "name": "python",
   "nbconvert_exporter": "python",
   "pygments_lexer": "ipython3",
   "version": "3.8.5"
  }
 },
 "nbformat": 4,
 "nbformat_minor": 4
}
